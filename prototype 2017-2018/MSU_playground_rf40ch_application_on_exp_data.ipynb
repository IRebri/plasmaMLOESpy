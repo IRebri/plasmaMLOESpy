{
 "cells": [
  {
   "cell_type": "markdown",
   "metadata": {},
   "source": [
    "Useful links\n",
    "- [Comparing random forests and the multi-output meta estimator](http://scikit-learn.org/stable/auto_examples/ensemble/plot_random_forest_regression_multioutput.html#sphx-glr-auto-examples-ensemble-plot-random-forest-regression-multioutput-py)\n",
    "- [sklearn.ensemble.RandomForestRegressor](http://scikit-learn.org/stable/modules/generated/sklearn.ensemble.RandomForestRegressor.html)\n",
    "- [classifier comparison](http://scikit-learn.org/stable/auto_examples/classification/plot_classifier_comparison.html)"
   ]
  },
  {
   "cell_type": "markdown",
   "metadata": {},
   "source": [
    "\n",
    "# Random Forest Regressor \"lock and load\"\n"
   ]
  },
  {
   "cell_type": "code",
   "execution_count": 1,
   "metadata": {},
   "outputs": [],
   "source": [
    "# Author: Rinat R. Ismagilov <ismagil@polly.phys.msu.ru>\n",
    "#\n",
    "# License: GNU General Public License v3.0\n",
    "\n",
    "import numpy as np\n",
    "import matplotlib.pyplot as plt\n",
    "import pandas as pd\n",
    "from sklearn.ensemble import RandomForestRegressor\n",
    "import time \n",
    "%matplotlib inline\n",
    "\n",
    "pd.options.display.max_rows = 10\n",
    "# pd.options.display.float_format = '{:.1f}'.format\n"
   ]
  },
  {
   "cell_type": "code",
   "execution_count": 2,
   "metadata": {},
   "outputs": [
    {
     "data": {
      "application/json": {
       "Software versions": [
        {
         "module": "Python",
         "version": "3.5.2 64bit [MSC v.1900 64 bit (AMD64)]"
        },
        {
         "module": "IPython",
         "version": "5.1.0"
        },
        {
         "module": "OS",
         "version": "Windows 10 10.0.17134 SP0"
        },
        {
         "module": "numpy",
         "version": "1.15.2"
        },
        {
         "module": "pandas",
         "version": "0.23.4"
        },
        {
         "module": "matplotlib",
         "version": "1.5.3"
        },
        {
         "module": "sklearn",
         "version": "0.20.0"
        },
        {
         "module": "version_information",
         "version": "1.0.3"
        }
       ]
      },
      "text/html": [
       "<table><tr><th>Software</th><th>Version</th></tr><tr><td>Python</td><td>3.5.2 64bit [MSC v.1900 64 bit (AMD64)]</td></tr><tr><td>IPython</td><td>5.1.0</td></tr><tr><td>OS</td><td>Windows 10 10.0.17134 SP0</td></tr><tr><td>numpy</td><td>1.15.2</td></tr><tr><td>pandas</td><td>0.23.4</td></tr><tr><td>matplotlib</td><td>1.5.3</td></tr><tr><td>sklearn</td><td>0.20.0</td></tr><tr><td>version_information</td><td>1.0.3</td></tr><tr><td colspan='2'>Wed Nov 28 14:02:02 2018 Russia TZ 2 Standard Time</td></tr></table>"
      ],
      "text/latex": [
       "\\begin{tabular}{|l|l|}\\hline\n",
       "{\\bf Software} & {\\bf Version} \\\\ \\hline\\hline\n",
       "Python & 3.5.2 64bit [MSC v.1900 64 bit (AMD64)] \\\\ \\hline\n",
       "IPython & 5.1.0 \\\\ \\hline\n",
       "OS & Windows 10 10.0.17134 SP0 \\\\ \\hline\n",
       "numpy & 1.15.2 \\\\ \\hline\n",
       "pandas & 0.23.4 \\\\ \\hline\n",
       "matplotlib & 1.5.3 \\\\ \\hline\n",
       "sklearn & 0.20.0 \\\\ \\hline\n",
       "version_information & 1.0.3 \\\\ \\hline\n",
       "\\hline \\multicolumn{2}{|l|}{Wed Nov 28 14:02:02 2018 Russia TZ 2 Standard Time} \\\\ \\hline\n",
       "\\end{tabular}\n"
      ],
      "text/plain": [
       "Software versions\n",
       "Python 3.5.2 64bit [MSC v.1900 64 bit (AMD64)]\n",
       "IPython 5.1.0\n",
       "OS Windows 10 10.0.17134 SP0\n",
       "numpy 1.15.2\n",
       "pandas 0.23.4\n",
       "matplotlib 1.5.3\n",
       "sklearn 0.20.0\n",
       "version_information 1.0.3\n",
       "Wed Nov 28 14:02:02 2018 Russia TZ 2 Standard Time"
      ]
     },
     "execution_count": 2,
     "metadata": {},
     "output_type": "execute_result"
    }
   ],
   "source": [
    "# nice practice\n",
    "\n",
    "%load_ext version_information\n",
    "\n",
    "%version_information numpy, pandas, matplotlib, sklearn, version_information\n"
   ]
  },
  {
   "cell_type": "markdown",
   "metadata": {},
   "source": [
    "## Macro-tuning parameters\n",
    "Including spectra path"
   ]
  },
  {
   "cell_type": "code",
   "execution_count": 3,
   "metadata": {},
   "outputs": [],
   "source": [
    "# I run program at home and at the university\n",
    "MSU_PC = False\n",
    "if MSU_PC: \n",
    "    diskG = \"D:/ZverG/\"\n",
    "else:\n",
    "    diskG = \"G:/\"\n",
    "    \n",
    "my_rf_path = diskG + \"SWAN BAND big data/random_forest_models/\"\n",
    "# my_file = \"forest40chMOSTandNoise3add_estim\" + str(my_estimators) + \"_dep\" + str(max_depth) + \"T{:0.0f}\".format(time.time())\n",
    "my_file = \"forest40chMOSTandNoise3add_estim50_dep50T1540915567\"\n",
    "  "
   ]
  },
  {
   "cell_type": "markdown",
   "metadata": {},
   "source": [
    "## Load model and test (the @anchor from rnd_forest40ch_clean_and_3noise.ipynb)"
   ]
  },
  {
   "cell_type": "code",
   "execution_count": 4,
   "metadata": {},
   "outputs": [],
   "source": [
    "import _pickle\n",
    "with open(my_rf_path+my_file, 'rb') as f:\n",
    "    rf = _pickle.load(f)\n",
    "\n",
    "# print(rf.predict(exp_oes_sample))\n"
   ]
  },
  {
   "cell_type": "code",
   "execution_count": null,
   "metadata": {
    "collapsed": true
   },
   "outputs": [],
   "source": []
  },
  {
   "cell_type": "code",
   "execution_count": 5,
   "metadata": {},
   "outputs": [],
   "source": [
    "load_tb = pd.read_csv(diskG + \"SWAN BAND big data/kud/xy_spectra/\" + \"spec_scan_26_11_2018__13-06-07_clear.txt\", delimiter= \" \", skiprows = 2, header=None, dtype = np.str)"
   ]
  },
  {
   "cell_type": "code",
   "execution_count": 6,
   "metadata": {},
   "outputs": [
    {
     "data": {
      "text/html": [
       "<div>\n",
       "<style scoped>\n",
       "    .dataframe tbody tr th:only-of-type {\n",
       "        vertical-align: middle;\n",
       "    }\n",
       "\n",
       "    .dataframe tbody tr th {\n",
       "        vertical-align: top;\n",
       "    }\n",
       "\n",
       "    .dataframe thead th {\n",
       "        text-align: right;\n",
       "    }\n",
       "</style>\n",
       "<table border=\"1\" class=\"dataframe\">\n",
       "  <thead>\n",
       "    <tr style=\"text-align: right;\">\n",
       "      <th></th>\n",
       "      <th>0</th>\n",
       "      <th>1</th>\n",
       "      <th>2</th>\n",
       "      <th>3</th>\n",
       "      <th>4</th>\n",
       "      <th>5</th>\n",
       "      <th>6</th>\n",
       "      <th>7</th>\n",
       "      <th>8</th>\n",
       "      <th>9</th>\n",
       "      <th>...</th>\n",
       "      <th>3640</th>\n",
       "      <th>3641</th>\n",
       "      <th>3642</th>\n",
       "      <th>3643</th>\n",
       "      <th>3644</th>\n",
       "      <th>3645</th>\n",
       "      <th>3646</th>\n",
       "      <th>3647</th>\n",
       "      <th>3648</th>\n",
       "      <th>3649</th>\n",
       "    </tr>\n",
       "  </thead>\n",
       "  <tbody>\n",
       "    <tr>\n",
       "      <th>0</th>\n",
       "      <td>0</td>\n",
       "      <td>0</td>\n",
       "      <td>194.17</td>\n",
       "      <td>194.44</td>\n",
       "      <td>194.71</td>\n",
       "      <td>194.98</td>\n",
       "      <td>195.25</td>\n",
       "      <td>195.52</td>\n",
       "      <td>195.79</td>\n",
       "      <td>196.06</td>\n",
       "      <td>...</td>\n",
       "      <td>1116.03</td>\n",
       "      <td>1116.27</td>\n",
       "      <td>1116.50</td>\n",
       "      <td>1116.74</td>\n",
       "      <td>1116.98</td>\n",
       "      <td>1117.21</td>\n",
       "      <td>1117.45</td>\n",
       "      <td>1117.69</td>\n",
       "      <td>1117.92</td>\n",
       "      <td>1118.16</td>\n",
       "    </tr>\n",
       "    <tr>\n",
       "      <th>1</th>\n",
       "      <td>0</td>\n",
       "      <td>0</td>\n",
       "      <td>-13.50</td>\n",
       "      <td>-18.85</td>\n",
       "      <td>-48.00</td>\n",
       "      <td>-22.75</td>\n",
       "      <td>-18.15</td>\n",
       "      <td>-8.25</td>\n",
       "      <td>8.60</td>\n",
       "      <td>5.45</td>\n",
       "      <td>...</td>\n",
       "      <td>38.75</td>\n",
       "      <td>11.55</td>\n",
       "      <td>17.55</td>\n",
       "      <td>32.65</td>\n",
       "      <td>16.40</td>\n",
       "      <td>0.60</td>\n",
       "      <td>18.70</td>\n",
       "      <td>51.80</td>\n",
       "      <td>21.85</td>\n",
       "      <td>12.70</td>\n",
       "    </tr>\n",
       "    <tr>\n",
       "      <th>2</th>\n",
       "      <td>0</td>\n",
       "      <td>1</td>\n",
       "      <td>-18.57</td>\n",
       "      <td>-13.92</td>\n",
       "      <td>-45.07</td>\n",
       "      <td>-6.82</td>\n",
       "      <td>-38.22</td>\n",
       "      <td>-13.32</td>\n",
       "      <td>2.53</td>\n",
       "      <td>-10.62</td>\n",
       "      <td>...</td>\n",
       "      <td>28.68</td>\n",
       "      <td>8.48</td>\n",
       "      <td>16.48</td>\n",
       "      <td>36.58</td>\n",
       "      <td>10.33</td>\n",
       "      <td>-18.47</td>\n",
       "      <td>14.63</td>\n",
       "      <td>48.73</td>\n",
       "      <td>34.78</td>\n",
       "      <td>13.63</td>\n",
       "    </tr>\n",
       "    <tr>\n",
       "      <th>3</th>\n",
       "      <td>0</td>\n",
       "      <td>2</td>\n",
       "      <td>14.58</td>\n",
       "      <td>-46.77</td>\n",
       "      <td>-15.92</td>\n",
       "      <td>-21.67</td>\n",
       "      <td>-9.07</td>\n",
       "      <td>6.83</td>\n",
       "      <td>6.68</td>\n",
       "      <td>-10.47</td>\n",
       "      <td>...</td>\n",
       "      <td>19.83</td>\n",
       "      <td>-9.37</td>\n",
       "      <td>19.63</td>\n",
       "      <td>61.73</td>\n",
       "      <td>37.48</td>\n",
       "      <td>-0.32</td>\n",
       "      <td>18.78</td>\n",
       "      <td>38.88</td>\n",
       "      <td>10.93</td>\n",
       "      <td>21.78</td>\n",
       "    </tr>\n",
       "    <tr>\n",
       "      <th>4</th>\n",
       "      <td>0</td>\n",
       "      <td>3</td>\n",
       "      <td>5.04</td>\n",
       "      <td>-38.31</td>\n",
       "      <td>-21.46</td>\n",
       "      <td>-10.21</td>\n",
       "      <td>-18.61</td>\n",
       "      <td>-2.71</td>\n",
       "      <td>10.14</td>\n",
       "      <td>8.99</td>\n",
       "      <td>...</td>\n",
       "      <td>14.29</td>\n",
       "      <td>14.09</td>\n",
       "      <td>10.09</td>\n",
       "      <td>17.19</td>\n",
       "      <td>16.94</td>\n",
       "      <td>-12.86</td>\n",
       "      <td>-19.76</td>\n",
       "      <td>25.34</td>\n",
       "      <td>21.39</td>\n",
       "      <td>-10.76</td>\n",
       "    </tr>\n",
       "    <tr>\n",
       "      <th>...</th>\n",
       "      <td>...</td>\n",
       "      <td>...</td>\n",
       "      <td>...</td>\n",
       "      <td>...</td>\n",
       "      <td>...</td>\n",
       "      <td>...</td>\n",
       "      <td>...</td>\n",
       "      <td>...</td>\n",
       "      <td>...</td>\n",
       "      <td>...</td>\n",
       "      <td>...</td>\n",
       "      <td>...</td>\n",
       "      <td>...</td>\n",
       "      <td>...</td>\n",
       "      <td>...</td>\n",
       "      <td>...</td>\n",
       "      <td>...</td>\n",
       "      <td>...</td>\n",
       "      <td>...</td>\n",
       "      <td>...</td>\n",
       "      <td>...</td>\n",
       "    </tr>\n",
       "    <tr>\n",
       "      <th>5332</th>\n",
       "      <td>45</td>\n",
       "      <td>111</td>\n",
       "      <td>-3.65</td>\n",
       "      <td>-35.00</td>\n",
       "      <td>-8.15</td>\n",
       "      <td>-38.90</td>\n",
       "      <td>-26.30</td>\n",
       "      <td>2.60</td>\n",
       "      <td>22.45</td>\n",
       "      <td>-2.70</td>\n",
       "      <td>...</td>\n",
       "      <td>24.60</td>\n",
       "      <td>10.40</td>\n",
       "      <td>17.40</td>\n",
       "      <td>28.50</td>\n",
       "      <td>34.25</td>\n",
       "      <td>-10.55</td>\n",
       "      <td>15.55</td>\n",
       "      <td>74.65</td>\n",
       "      <td>9.70</td>\n",
       "      <td>-2.45</td>\n",
       "    </tr>\n",
       "    <tr>\n",
       "      <th>5333</th>\n",
       "      <td>45</td>\n",
       "      <td>112</td>\n",
       "      <td>6.81</td>\n",
       "      <td>1.46</td>\n",
       "      <td>-56.69</td>\n",
       "      <td>-28.44</td>\n",
       "      <td>-24.84</td>\n",
       "      <td>14.06</td>\n",
       "      <td>18.91</td>\n",
       "      <td>-9.24</td>\n",
       "      <td>...</td>\n",
       "      <td>20.06</td>\n",
       "      <td>6.86</td>\n",
       "      <td>22.86</td>\n",
       "      <td>58.96</td>\n",
       "      <td>36.71</td>\n",
       "      <td>-3.09</td>\n",
       "      <td>17.01</td>\n",
       "      <td>51.11</td>\n",
       "      <td>18.16</td>\n",
       "      <td>2.01</td>\n",
       "    </tr>\n",
       "    <tr>\n",
       "      <th>5334</th>\n",
       "      <td>45</td>\n",
       "      <td>113</td>\n",
       "      <td>13.20</td>\n",
       "      <td>-28.15</td>\n",
       "      <td>-5.30</td>\n",
       "      <td>-36.05</td>\n",
       "      <td>-33.45</td>\n",
       "      <td>-16.55</td>\n",
       "      <td>4.30</td>\n",
       "      <td>1.15</td>\n",
       "      <td>...</td>\n",
       "      <td>12.45</td>\n",
       "      <td>-1.75</td>\n",
       "      <td>14.25</td>\n",
       "      <td>44.35</td>\n",
       "      <td>20.10</td>\n",
       "      <td>13.30</td>\n",
       "      <td>20.40</td>\n",
       "      <td>53.50</td>\n",
       "      <td>2.55</td>\n",
       "      <td>-19.60</td>\n",
       "    </tr>\n",
       "    <tr>\n",
       "      <th>5335</th>\n",
       "      <td>45</td>\n",
       "      <td>114</td>\n",
       "      <td>4.74</td>\n",
       "      <td>-33.61</td>\n",
       "      <td>-17.76</td>\n",
       "      <td>-41.51</td>\n",
       "      <td>-23.91</td>\n",
       "      <td>-1.01</td>\n",
       "      <td>-5.16</td>\n",
       "      <td>-9.31</td>\n",
       "      <td>...</td>\n",
       "      <td>18.99</td>\n",
       "      <td>11.79</td>\n",
       "      <td>48.79</td>\n",
       "      <td>36.89</td>\n",
       "      <td>48.64</td>\n",
       "      <td>-4.16</td>\n",
       "      <td>11.94</td>\n",
       "      <td>57.04</td>\n",
       "      <td>14.09</td>\n",
       "      <td>-4.06</td>\n",
       "    </tr>\n",
       "    <tr>\n",
       "      <th>5336</th>\n",
       "      <td>45</td>\n",
       "      <td>115</td>\n",
       "      <td>-9.80</td>\n",
       "      <td>-37.15</td>\n",
       "      <td>-15.30</td>\n",
       "      <td>-57.05</td>\n",
       "      <td>-25.45</td>\n",
       "      <td>-0.55</td>\n",
       "      <td>7.30</td>\n",
       "      <td>11.15</td>\n",
       "      <td>...</td>\n",
       "      <td>28.45</td>\n",
       "      <td>1.25</td>\n",
       "      <td>16.25</td>\n",
       "      <td>48.35</td>\n",
       "      <td>20.10</td>\n",
       "      <td>1.30</td>\n",
       "      <td>21.40</td>\n",
       "      <td>81.50</td>\n",
       "      <td>35.55</td>\n",
       "      <td>-7.60</td>\n",
       "    </tr>\n",
       "  </tbody>\n",
       "</table>\n",
       "<p>5337 rows × 3650 columns</p>\n",
       "</div>"
      ],
      "text/plain": [
       "     0    1       2       3       4       5       6       7       8     \\\n",
       "0       0    0  194.17  194.44  194.71  194.98  195.25  195.52  195.79   \n",
       "1       0    0  -13.50  -18.85  -48.00  -22.75  -18.15   -8.25    8.60   \n",
       "2       0    1  -18.57  -13.92  -45.07   -6.82  -38.22  -13.32    2.53   \n",
       "3       0    2   14.58  -46.77  -15.92  -21.67   -9.07    6.83    6.68   \n",
       "4       0    3    5.04  -38.31  -21.46  -10.21  -18.61   -2.71   10.14   \n",
       "...   ...  ...     ...     ...     ...     ...     ...     ...     ...   \n",
       "5332   45  111   -3.65  -35.00   -8.15  -38.90  -26.30    2.60   22.45   \n",
       "5333   45  112    6.81    1.46  -56.69  -28.44  -24.84   14.06   18.91   \n",
       "5334   45  113   13.20  -28.15   -5.30  -36.05  -33.45  -16.55    4.30   \n",
       "5335   45  114    4.74  -33.61  -17.76  -41.51  -23.91   -1.01   -5.16   \n",
       "5336   45  115   -9.80  -37.15  -15.30  -57.05  -25.45   -0.55    7.30   \n",
       "\n",
       "        9      ...        3640     3641     3642     3643     3644     3645  \\\n",
       "0     196.06   ...     1116.03  1116.27  1116.50  1116.74  1116.98  1117.21   \n",
       "1       5.45   ...       38.75    11.55    17.55    32.65    16.40     0.60   \n",
       "2     -10.62   ...       28.68     8.48    16.48    36.58    10.33   -18.47   \n",
       "3     -10.47   ...       19.83    -9.37    19.63    61.73    37.48    -0.32   \n",
       "4       8.99   ...       14.29    14.09    10.09    17.19    16.94   -12.86   \n",
       "...      ...   ...         ...      ...      ...      ...      ...      ...   \n",
       "5332   -2.70   ...       24.60    10.40    17.40    28.50    34.25   -10.55   \n",
       "5333   -9.24   ...       20.06     6.86    22.86    58.96    36.71    -3.09   \n",
       "5334    1.15   ...       12.45    -1.75    14.25    44.35    20.10    13.30   \n",
       "5335   -9.31   ...       18.99    11.79    48.79    36.89    48.64    -4.16   \n",
       "5336   11.15   ...       28.45     1.25    16.25    48.35    20.10     1.30   \n",
       "\n",
       "         3646     3647     3648     3649  \n",
       "0     1117.45  1117.69  1117.92  1118.16  \n",
       "1       18.70    51.80    21.85    12.70  \n",
       "2       14.63    48.73    34.78    13.63  \n",
       "3       18.78    38.88    10.93    21.78  \n",
       "4      -19.76    25.34    21.39   -10.76  \n",
       "...       ...      ...      ...      ...  \n",
       "5332    15.55    74.65     9.70    -2.45  \n",
       "5333    17.01    51.11    18.16     2.01  \n",
       "5334    20.40    53.50     2.55   -19.60  \n",
       "5335    11.94    57.04    14.09    -4.06  \n",
       "5336    21.40    81.50    35.55    -7.60  \n",
       "\n",
       "[5337 rows x 3650 columns]"
      ]
     },
     "execution_count": 6,
     "metadata": {},
     "output_type": "execute_result"
    }
   ],
   "source": [
    "load_tb"
   ]
  },
  {
   "cell_type": "code",
   "execution_count": 7,
   "metadata": {},
   "outputs": [
    {
     "data": {
      "text/plain": [
       "[<matplotlib.lines.Line2D at 0x223780edeb8>]"
      ]
     },
     "execution_count": 7,
     "metadata": {},
     "output_type": "execute_result"
    },
    {
     "data": {
      "image/png": "[encoded data removed]",
      "text/plain": [
       "<matplotlib.figure.Figure at 0x22318ed9080>"
      ]
     },
     "metadata": {},
     "output_type": "display_data"
    }
   ],
   "source": [
    "plt.plot(load_tb.iloc[3,2:])"
   ]
  },
  {
   "cell_type": "code",
   "execution_count": 8,
   "metadata": {},
   "outputs": [
    {
     "data": {
      "text/plain": [
       "array([['194.17', '194.44', '194.71', ..., '1117.69', '1117.92',\n",
       "        '1118.16']], dtype=object)"
      ]
     },
     "execution_count": 8,
     "metadata": {},
     "output_type": "execute_result"
    }
   ],
   "source": [
    "# to move X,Y to the end see https://stackoverflow.com/questions/13148429/how-to-change-the-order-of-dataframe-columns\n",
    "load_tb.iloc[:1,2:].values\n"
   ]
  },
  {
   "cell_type": "code",
   "execution_count": 9,
   "metadata": {},
   "outputs": [
    {
     "data": {
      "text/plain": [
       "(array([[ 1941.7,  1944.4,  1947.1, ..., 11176.9, 11179.2, 11181.6]]),\n",
       " array([[-13.5 , -18.85, -48.  , ...,  51.8 ,  21.85,  12.7 ],\n",
       "        [-18.57, -13.92, -45.07, ...,  48.73,  34.78,  13.63],\n",
       "        [ 14.58, -46.77, -15.92, ...,  38.88,  10.93,  21.78],\n",
       "        ...,\n",
       "        [ 13.2 , -28.15,  -5.3 , ...,  53.5 ,   2.55, -19.6 ],\n",
       "        [  4.74, -33.61, -17.76, ...,  57.04,  14.09,  -4.06],\n",
       "        [ -9.8 , -37.15, -15.3 , ...,  81.5 ,  35.55,  -7.6 ]]),\n",
       " array([[  0.,   0.],\n",
       "        [  0.,   1.],\n",
       "        [  0.,   2.],\n",
       "        ...,\n",
       "        [ 45., 113.],\n",
       "        [ 45., 114.],\n",
       "        [ 45., 115.]]))"
      ]
     },
     "execution_count": 9,
     "metadata": {},
     "output_type": "execute_result"
    }
   ],
   "source": [
    "#if work_level < 5:\n",
    "\n",
    "wl = np.array(load_tb.iloc[:1,2:].values,dtype='float64')\n",
    "wl = wl*10\n",
    "intens = np.array(load_tb.iloc[1:,2:].values,dtype='float64')\n",
    "coord = np.array(load_tb.iloc[1:,:2].values,dtype='float64')\n",
    "wl, intens, coord"
   ]
  },
  {
   "cell_type": "code",
   "execution_count": 10,
   "metadata": {},
   "outputs": [
    {
     "data": {
      "text/plain": [
       "(array([5033.2, 5035.8, 5038.4, 5041. , 5043.6, 5046.2, 5048.8, 5051.4,\n",
       "        5053.9, 5056.5, 5059.1, 5061.7, 5064.3, 5066.9, 5069.5, 5072.1,\n",
       "        5074.7, 5077.3, 5079.9, 5082.5, 5085.1, 5087.7, 5090.2, 5092.8,\n",
       "        5095.4, 5098. , 5100.6, 5103.2, 5105.8, 5108.4, 5111. , 5113.6,\n",
       "        5116.2, 5118.8, 5121.4, 5123.9, 5126.5, 5129.1, 5131.7, 5134.3,\n",
       "        5136.9, 5139.5, 5142.1, 5144.7, 5147.3, 5149.8, 5152.4, 5155. ,\n",
       "        5157.6, 5160.2, 5162.8, 5165.4, 5168. , 5170.6, 5173.2, 5175.7,\n",
       "        5178.3, 5180.9, 5183.5, 5186.1, 5188.7, 5191.3, 5193.9, 5196.5,\n",
       "        5199. , 5201.6, 5204.2, 5206.8, 5209.4, 5212. , 5214.6, 5217.2,\n",
       "        5219.8]), array([[ 97.05,  93.9 ,  84.75, ...,  82.95,  80.15,  77.4 ],\n",
       "        [ 75.98, 112.83,  86.68, ...,  61.88,  65.08,  69.33],\n",
       "        [ 98.13, 108.98,  86.83, ..., 101.03,  67.23,  64.48],\n",
       "        ...,\n",
       "        [ 80.75, 113.6 ,  89.45, ...,  80.65,  65.85,  74.1 ],\n",
       "        [ 77.29,  91.14,  79.99, ...,  83.19,  59.39,  74.64],\n",
       "        [ 72.75,  94.6 ,  90.45, ...,  93.65,  70.85,  65.1 ]]))"
      ]
     },
     "execution_count": 10,
     "metadata": {},
     "output_type": "execute_result"
    }
   ],
   "source": [
    "# if work_level <4:\n",
    "        # 1 masking - working only with Swan Band (0,0)\n",
    "mask = (wl > 5033.) & (wl < 5220.)\n",
    "n_rows = intens.shape[0]\n",
    "mask2D = np.tile(mask, (n_rows,1))\n",
    "# right boundary is a little bit bigger than for theoretical, because there might be huge shifts. Anyway it will be implicitly cut during standardization step; Left boundary empirically optimized\n",
    "wl, intens = np.copy(wl[mask]), intens[mask2D].reshape(n_rows,-1).copy()\n",
    "wl, intens\n",
    "# wl.shape, intens.shape"
   ]
  },
  {
   "cell_type": "code",
   "execution_count": 12,
   "metadata": {},
   "outputs": [
    {
     "data": {
      "text/plain": [
       "[<matplotlib.lines.Line2D at 0x2237251c8d0>]"
      ]
     },
     "execution_count": 12,
     "metadata": {},
     "output_type": "execute_result"
    },
    {
     "data": {
      "image/png": "[encoded data removed]",
      "text/plain": [
       "<matplotlib.figure.Figure at 0x22377f92f60>"
      ]
     },
     "metadata": {},
     "output_type": "display_data"
    }
   ],
   "source": [
    "wl.shape, intens.shape\n",
    "\n",
    "plt.plot(intens[5])"
   ]
  },
  {
   "cell_type": "code",
   "execution_count": 13,
   "metadata": {},
   "outputs": [],
   "source": [
    "import sys\n",
    "sys.path.append(\"..\")\n",
    "\n",
    "from utils.pyOESconsts import Consts\n",
    "from utils.SpectrumModifier import SpectrumModifier\n",
    "\n",
    "modifier = SpectrumModifier()\n",
    "\n",
    "# if work_level <3:\n",
    "# 2 deTrending - substract the line\n",
    "for i in np.arange(n_rows):\n",
    "    intens[i] = modifier.detrend_by_line_from_2left_right_minpoints(wl, intens[i])"
   ]
  },
  {
   "cell_type": "code",
   "execution_count": 14,
   "metadata": {},
   "outputs": [
    {
     "data": {
      "text/plain": [
       "[<matplotlib.lines.Line2D at 0x223811c1da0>]"
      ]
     },
     "execution_count": 14,
     "metadata": {},
     "output_type": "execute_result"
    },
    {
     "data": {
      "image/png": "[encoded data removed]",
      "text/plain": [
       "<matplotlib.figure.Figure at 0x2233b528dd8>"
      ]
     },
     "metadata": {},
     "output_type": "display_data"
    }
   ],
   "source": [
    "plt.plot(intens[5])"
   ]
  },
  {
   "cell_type": "code",
   "execution_count": 15,
   "metadata": {},
   "outputs": [
    {
     "name": "stderr",
     "output_type": "stream",
     "text": [
      "C:\\Program Files\\Anaconda3\\lib\\site-packages\\numpy\\core\\fromnumeric.py:83: RuntimeWarning: invalid value encountered in reduce\n",
      "  return ufunc.reduce(obj, axis, dtype, out, **passkwargs)\n"
     ]
    },
    {
     "data": {
      "text/plain": [
       "(array([5036.        , 5039.34693878, 5042.69387755, 5046.04081633,\n",
       "        5049.3877551 , 5052.73469388, 5056.08163265, 5059.42857143,\n",
       "        5062.7755102 , 5066.12244898, 5069.46938776, 5072.81632653,\n",
       "        5076.16326531, 5079.51020408, 5082.85714286, 5086.20408163,\n",
       "        5089.55102041, 5092.89795918, 5096.24489796, 5099.59183673,\n",
       "        5102.93877551, 5106.28571429, 5109.63265306, 5112.97959184,\n",
       "        5116.32653061, 5119.67346939, 5123.02040816, 5126.36734694,\n",
       "        5129.71428571, 5133.06122449, 5136.40816327, 5139.75510204,\n",
       "        5143.10204082, 5146.44897959, 5149.79591837, 5153.14285714,\n",
       "        5156.48979592, 5159.83673469, 5163.18367347, 5166.53061224,\n",
       "        5169.87755102, 5173.2244898 , 5176.57142857, 5179.91836735,\n",
       "        5183.26530612, 5186.6122449 , 5189.95918367, 5193.30612245,\n",
       "        5196.65306122, 5200.        ]),\n",
       " array([[        nan,         nan,  0.08891362, ...,  0.02950835,\n",
       "          0.51908968,  0.32280389],\n",
       "        [        nan,         nan,  0.44262765, ...,  0.30751702,\n",
       "          0.31316298,  0.55077972],\n",
       "        [        nan,         nan,         nan, ...,  0.6381263 ,\n",
       "          0.52291369,  0.22434651],\n",
       "        ...,\n",
       "        [        nan,         nan,         nan, ...,  0.74255402,\n",
       "          0.38303347,  0.34608742],\n",
       "        [        nan,         nan,         nan, ...,  0.5397884 ,\n",
       "          0.73973299,  0.76140508],\n",
       "        [        nan,         nan,  0.56401433, ..., -0.00083265,\n",
       "          0.54785068,  0.46403258]]))"
      ]
     },
     "execution_count": 15,
     "metadata": {},
     "output_type": "execute_result"
    }
   ],
   "source": [
    "# if work_level <2:\n",
    "        # 3 standardizing - make x grid similar to all spectra (includes interpolation to increase/decrease the number of X,Y points)\n",
    "       \n",
    "intens_std = np.zeros((n_rows,50), dtype='float64')\n",
    "for i in np.arange(n_rows):\n",
    "    wl_blind, intens_std[i] = modifier.make_standard_xgrid_spectrum(wl, intens[i])\n",
    "            # 4 translation maximum - align to theoretical  5165.2A\n",
    "        \n",
    "    intens_std[i] = modifier.translate_OY_along_x_to_merge_lines(wl_blind, intens_std[i], expected_max=5165.2, max_region=200.,line=Consts.C2_SWAN_BAND['vibr trans (0,0)'])\n",
    "\n",
    "            # 5 normilize - devide by max C2 intensity\n",
    "    intens_std[i] = modifier.normalize_by_division_with_max_intensity(wl_blind, intens_std[i])\n",
    "wl = wl_blind\n",
    "intens = intens_std\n",
    "wl, intens"
   ]
  },
  {
   "cell_type": "code",
   "execution_count": 16,
   "metadata": {},
   "outputs": [
    {
     "data": {
      "text/plain": [
       "[<matplotlib.lines.Line2D at 0x2239497a4e0>]"
      ]
     },
     "execution_count": 16,
     "metadata": {},
     "output_type": "execute_result"
    },
    {
     "data": {
      "image/png": "[encoded data removed]",
      "text/plain": [
       "<matplotlib.figure.Figure at 0x2235da37ba8>"
      ]
     },
     "metadata": {},
     "output_type": "display_data"
    }
   ],
   "source": [
    "plt.plot(intens[5])"
   ]
  },
  {
   "cell_type": "code",
   "execution_count": 17,
   "metadata": {
    "collapsed": true
   },
   "outputs": [],
   "source": [
    "def msu_data_preprocessing(my_file_path = diskG + \"SWAN BAND big data/kud/xy_spectra/\" + \"spec_scan_26_11_2018__13-06-07_clear.txt\",\n",
    "                           level = \"deepest\"):\n",
    "    \"\"\"\n",
    "    Reads spectra file - table's 3d row - wavelength in nm, others intensity, first and second columns are coordinates (x,y).\n",
    "    Preprocessed Intensity rows\n",
    "            \n",
    "    @param my_file_path: (string) file path with spectra, i.e. \"spec_scan_26_11_2018__13-06-07_clear.txt\"\n",
    "    @param level: {deepest, deep, normal, nothing} level of processing\n",
    "\n",
    "    @return (coord, wl, intens): (all np.array) \n",
    "                                    fetched coord - 2D matrix of scanned coordinates (x,y),\n",
    "                                    preprocessed wl - array of wavelength in A,\n",
    "                                    preprocessed intens - 2D matrix of intensity in Arb.\n",
    "    \"\"\"\n",
    "    load_tb = pd.read_csv(my_file_path, delimiter= \" \", skiprows = 2, header=None, dtype = np.str)\n",
    "    \n",
    "    levels = {\"deepest\":1, \"deep\":2, \"normal\":3, \"nothing\":4,}\n",
    "    work_level = levels.get(level, \"deepest\")\n",
    "    \n",
    "    if work_level < 5:\n",
    "        wl = np.array(load_tb.iloc[:1,2:].values,dtype='float64')\n",
    "        wl = wl*10\n",
    "        intens = np.array(load_tb.iloc[1:,2:].values,dtype='float64')\n",
    "        coord = np.array(load_tb.iloc[1:,:2].values,dtype='float64')\n",
    "\n",
    "        \n",
    "    if work_level <4:\n",
    "        # 1 masking - working only with Swan Band (0,0)\n",
    "        mask = (wl > 5033.) & (wl < 5220.)\n",
    "        n_rows = intens.shape[0]\n",
    "        mask2D = np.tile(mask, (n_rows,1))\n",
    "        # right boundary is a little bit bigger than for theoretical, because there might be huge shifts. Anyway it will be implicitly cut during standardization step; Left boundary empirically optimized\n",
    "        wl, intens = np.copy(wl[mask]), intens[mask2D].reshape(n_rows,-1).copy()\n",
    "\n",
    "    if work_level <3:\n",
    "        # 2 deTrending - substract the line\n",
    "        for i in np.arange(n_rows):\n",
    "            intens[i] = modifier.detrend_by_line_from_2left_right_minpoints(wl, intens[i])\n",
    "    \n",
    "    if work_level <2:\n",
    "        # 3 standardizing - make x grid similar to all spectra (includes interpolation to increase/decrease the number of X,Y points)\n",
    "    \n",
    "        intens_std = np.zeros((n_rows,50), dtype='float64')\n",
    "        for i in np.arange(n_rows):\n",
    "            wl_blind, intens_std[i] = modifier.make_standard_xgrid_spectrum(wl, intens[i])\n",
    "            \n",
    "            # 4 translation maximum - align to theoretical  5165.2A\n",
    "            intens_std[i] = modifier.translate_OY_along_x_to_merge_lines(wl_blind, intens_std[i], expected_max=5165.2, max_region=200.,line=Consts.C2_SWAN_BAND['vibr trans (0,0)'])\n",
    "\n",
    "            # 5 normilize - devide by max C2 intensity\n",
    "            intens_std[i] = modifier.normalize_by_division_with_max_intensity(wl_blind, intens_std[i])\n",
    "    wl = wl_blind\n",
    "    intens = intens_std\n",
    "        \n",
    "    return coord, wl, intens"
   ]
  },
  {
   "cell_type": "code",
   "execution_count": 18,
   "metadata": {},
   "outputs": [
    {
     "name": "stderr",
     "output_type": "stream",
     "text": [
      "C:\\Program Files\\Anaconda3\\lib\\site-packages\\numpy\\core\\fromnumeric.py:83: RuntimeWarning: invalid value encountered in reduce\n",
      "  return ufunc.reduce(obj, axis, dtype, out, **passkwargs)\n"
     ]
    }
   ],
   "source": [
    "coord2, wl2, intens2 = msu_data_preprocessing()"
   ]
  },
  {
   "cell_type": "code",
   "execution_count": 19,
   "metadata": {},
   "outputs": [
    {
     "data": {
      "text/plain": [
       "[<matplotlib.lines.Line2D at 0x22391ed36a0>]"
      ]
     },
     "execution_count": 19,
     "metadata": {},
     "output_type": "execute_result"
    },
    {
     "data": {
      "image/png": "[encoded data removed]",
      "text/plain": [
       "<matplotlib.figure.Figure at 0x2235d599208>"
      ]
     },
     "metadata": {},
     "output_type": "display_data"
    }
   ],
   "source": [
    "plt.plot(intens[5])"
   ]
  },
  {
   "cell_type": "code",
   "execution_count": 20,
   "metadata": {},
   "outputs": [
    {
     "data": {
      "text/plain": [
       "[<matplotlib.lines.Line2D at 0x2236ca26e48>]"
      ]
     },
     "execution_count": 20,
     "metadata": {},
     "output_type": "execute_result"
    },
    {
     "data": {
      "image/png": "[encoded data removed]",
      "text/plain": [
       "<matplotlib.figure.Figure at 0x2238f02e9e8>"
      ]
     },
     "metadata": {},
     "output_type": "display_data"
    }
   ],
   "source": [
    "plt.plot(intens2[5])"
   ]
  }
 ],
 "metadata": {
  "anaconda-cloud": {},
  "kernelspec": {
   "display_name": "Python 3",
   "language": "python",
   "name": "python3"
  },
  "language_info": {
   "codemirror_mode": {
    "name": "ipython",
    "version": 3
   },
   "file_extension": ".py",
   "mimetype": "text/x-python",
   "name": "python",
   "nbconvert_exporter": "python",
   "pygments_lexer": "ipython3",
   "version": "3.5.0"
  }
 },
 "nbformat": 4,
 "nbformat_minor": 1
}
